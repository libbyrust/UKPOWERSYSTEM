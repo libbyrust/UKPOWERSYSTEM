{
 "cells": [
  {
   "cell_type": "code",
   "execution_count": 11,
   "metadata": {},
   "outputs": [],
   "source": [
    "#importing required tools for powerflow analysis\n",
    "import pandas as pd\n",
    "import numpy as np\n",
    "import pandapower as pp\n",
    "import pandapower.networks as pn\n",
    "import matplotlib.pyplot as plt\n",
    "import geopandas\n",
    "import math\n",
    "from pandapower.plotting.plotly import simple_plotly\n",
    "\n",
    "#importing and running GBreducednetwork powerflow\n",
    "net = pn.GBreducednetwork()\n",
    "pp.runpp(net)"
   ]
  },
  {
   "cell_type": "code",
   "execution_count": 12,
   "metadata": {},
   "outputs": [],
   "source": [
    "#Saving network to Excel for analysis of componenets if required\n",
    "pp.to_excel(net,'UK_Network_Original.xlsx')"
   ]
  },
  {
   "cell_type": "code",
   "execution_count": 13,
   "metadata": {},
   "outputs": [
    {
     "name": "stdout",
     "output_type": "stream",
     "text": [
      "Load in the UK_Case is 58712 MW.\n",
      "Whereas the peak load experienced in the UK is 61000 MW (National Grid, 2016)\n",
      "To replicate peak loading of the system, load and generation in the UK_Case is multipled by 1.0390.\n",
      "This load is replicated using the scaling functionality in Pandapower.\n"
     ]
    }
   ],
   "source": [
    "#Calcualting the load of the GBreduced network\n",
    "pq_load= ((net.load.p_mw)**2 + (net.load.q_mvar)**2)**0.5\n",
    "pq_load_sum=pq_load.sum()\n",
    "\n",
    "#Establishing scaling required to represent worst-case loading of the system\n",
    "scaling_factor= 61000/pq_load_sum\n",
    "\n",
    "#Printing update to user. This explains the scaling used in further analysis\n",
    "print(\"Load in the UK_Case is\",int(pq_load_sum),\"MW.\")\n",
    "print(\"Whereas the peak load experienced in the UK is 61000 MW (National Grid, 2017)\") #http://fes.nationalgrid.com/media/1264/ev-myth-buster-v032.pdf\n",
    "print(\"To replicate peak loading of the system, load and generation in the UK_Case is multipled by\",\"{0:.4f}.\".format(scaling_factor))\n",
    "print(\"This load is replicated using the scaling functionality in Pandapower.\")\n",
    "\n",
    "#Create empty dataframe for analysis\n",
    "df1=pd.DataFrame()\n",
    "\n",
    "#Scaling system to represent worst-case loads\n",
    "net.load.scaling=scaling_factor\n",
    "net.gen.scaling=scaling_factor\n",
    "net.sgen.scaling=scaling_factor \n",
    "\n",
    "#Saving the scaled network to Excel for further analysis if required\n",
    "pp.to_excel(net,'UK_Network_Scaled.xlsx')\n",
    "\n",
    "#This block of code removes each line in turn, and runs powerflow analysis to analsye the impact that removing a specific line has. \n",
    "x = range(0,86)\n",
    "for line in x:\n",
    "    \n",
    "    pp.drop_lines(net,lines=[line])\n",
    "\n",
    "    try:\n",
    "        pp.runpp(net)\n",
    "        \n",
    "        #Powerflow results recorded when each line is removed as follows:        \n",
    "        #   - Three highest loading percents of lines within system and corresponding indexes\n",
    "        loading_percent = (net.res_line.loading_percent)\n",
    "        loading_percent_max = loading_percent.nlargest(3)\n",
    "        df1.at[line,'first_loading_percent_max'] = float(loading_percent_max.iloc[0])\n",
    "        df1.at[line,'first_loading_percent_max_index'] = float(loading_percent_max.index[0])\n",
    "        df1.at[line,'second_loading_percent_max'] = float(loading_percent_max.iloc[1])\n",
    "        df1.at[line,'second_loading_percent_max_index'] = float(loading_percent_max.index[1])\n",
    "        df1.at[line,'third_loading_percent_max'] = float(loading_percent_max.iloc[2])\n",
    "        df1.at[line,'third_loading_percent_max_index'] = loading_percent_max.index[2]\n",
    "        \n",
    "        #   - Number of lines in the system with a loading percent above 100%\n",
    "        loading_percent_exceed_100_occurance = sum(i >100 for i in loading_percent)\n",
    "        df1.at[line,'loading_percent_exceed_100_occurance'] = float(loading_percent_exceed_100_occurance)\n",
    "        \n",
    "        #   - Sum of the power within all lines in the system\n",
    "        line_power = abs(net.res_line.p_from_mw)\n",
    "        line_power_sum = line_power.sum()\n",
    "        df1.at[line,'line_power_sum'] = float(line_power_sum)\n",
    "        \n",
    "        #   - Maximum power occuring within any one line, with corresponding line index\n",
    "        line_power = abs(net.res_line.p_from_mw)\n",
    "        line_power_max = line_power.max()\n",
    "        df1.at[line,'line_power_max'] = float(line_power_max)\n",
    "        line_power_max_index = line_power.idxmax()\n",
    "        df1.at[line,'line_power_max_index'] = line_power_max_index\n",
    "       \n",
    "        #   - Highest / lowest voltage per unit the end of a line within the system\n",
    "        volt_magto =(net.res_line.vm_to_pu)\n",
    "        volt_magto_min = volt_magto.min()\n",
    "        df1.at[line,'volt_magto_min'] = float(volt_magto_min)\n",
    "        volt_magto_max = volt_magto.max()\n",
    "        df1.at[line,'volt_magto_max'] = float(volt_magto_max)\n",
    "        \n",
    "        #   - Highest / lowest voltage per unit the beginning of a line within the system\n",
    "        volt_magfrom =(net.res_line.vm_from_pu)\n",
    "        volt_magfrom_min = volt_magfrom.min()\n",
    "        df1.at[line,'volt_magfrom_min'] = float(volt_magfrom_min)\n",
    "        volt_magfrom_max = volt_magfrom.max()\n",
    "        df1.at[line,'volt_magfrom_max'] = float(volt_magfrom_max)\n",
    "        \n",
    "    except:\n",
    "        #Error blocking ensures that the powerflow analysis is run when a single line does not converge. \n",
    "        #When the flow does not converge \"0\" is recorded and analysis is continued.\n",
    "        error_variable = float(\"0\")\n",
    "        df1.at[line,'first_loading_percent_max'] = error_variable\n",
    "        df1.at[line,'first_loading_percent_max_index'] = error_variable\n",
    "        df1.at[line,'second_loading_percent_ave'] = error_variable\n",
    "        df1.at[line,'second_loading_percent_max_index'] = error_variable\n",
    "        df1.at[line,'third_loading_percent_max'] = error_variable\n",
    "        df1.at[line,'third_loading_percent_max_index'] = error_variable  \n",
    "        df1.at[line,'line_power_sum'] = error_variable\n",
    "        df1.at[line,'line_power_max'] = error_variable\n",
    "        df1.at[line,'line_power_max_index'] = error_variable\n",
    "        df1.at[line,'volt_magto_max'] = error_variable\n",
    "        df1.at[line,'volt_magfrom_max'] = error_variable\n",
    "        df1.at[line,'volt_magto_min'] = error_variable\n",
    "        df1.at[line,'volt_magfrom_min'] = error_variable\n",
    "    \n",
    "    #Replacing the line removed, and re-scaling the system to replicate worst-case loading before the loop is ran again.\n",
    "    net = pn.GBreducednetwork()\n",
    "    net.load.scaling=scaling_factor\n",
    "    net.gen.scaling=scaling_factor\n",
    "    net.sgen.scaling=scaling_factor\n",
    "    \n",
    "    #This analysis will finish when every line in the system has been removed, and the above data is recorded for each scenario. "
   ]
  },
  {
   "cell_type": "code",
   "execution_count": 14,
   "metadata": {},
   "outputs": [],
   "source": [
    "#Saving results to CSV for analysis\n",
    "df1.to_csv('UK_Network_Line_Results.csv')"
   ]
  },
  {
   "cell_type": "code",
   "execution_count": 15,
   "metadata": {},
   "outputs": [],
   "source": [
    "#Calculating the loads experienced by each line under worst-case operating conditions\n",
    "net = pn.GBreducednetwork()\n",
    "net.load.scaling=scaling_factor\n",
    "net.gen.scaling=scaling_factor\n",
    "net.sgen.scaling=scaling_factor\n",
    "pp.runpp(net)\n",
    "\n",
    "power_from=((net.res_line.p_from_mw**2)+(net.res_line.q_from_mvar**2))**0.5\n",
    "power_to=(((net.res_line.p_to_mw)**2)+((net.res_line.q_to_mvar)**2))**0.5\n",
    "\n",
    "#Saving results to excel for analysis\n",
    "power_from.to_excel('powerfromline.xlsx')\n",
    "power_to.to_excel('powertoline.xlsx')\n",
    "\n",
    "#The below sorting could be used to analyse the lines with the largest loads in the python module\n",
    "#power_from.sort_values()\n",
    "#power_to.sort_values()"
   ]
  },
  {
   "cell_type": "code",
   "execution_count": 8,
   "metadata": {
    "scrolled": true
   },
   "outputs": [
    {
     "data": {
      "text/plain": [
       "[<matplotlib.lines.Line2D at 0x1a262d3400>]"
      ]
     },
     "execution_count": 8,
     "metadata": {},
     "output_type": "execute_result"
    },
    {
     "data": {
      "image/png": "[encoded data removed]",
      "text/plain": [
       "<Figure size 432x288 with 1 Axes>"
      ]
     },
     "metadata": {
      "needs_background": "light"
     },
     "output_type": "display_data"
    }
   ],
   "source": [
    "#Plot the busses in python - not extremely meaningful due to the coordinate system used. Spatial analysis in QGIS is now performed.\n",
    "x = net.bus_geodata.x\n",
    "y = net.bus_geodata.y\n",
    "plt.plot(x, y, 'o', color='black')"
   ]
  },
  {
   "cell_type": "code",
   "execution_count": 19,
   "metadata": {},
   "outputs": [],
   "source": [
    "#Analysis of the voltage magnitude of busses, when each line is removed\n",
    "\n",
    "net = pn.GBreducednetwork()\n",
    "net.load.scaling=scaling_factor\n",
    "net.gen.scaling=scaling_factor\n",
    "net.sgen.scaling=scaling_factor\n",
    "df2=pd.DataFrame()\n",
    "\n",
    "y = range(0,86)\n",
    "for line in y:\n",
    "    \n",
    "    pp.drop_lines(net,lines=[line])\n",
    "\n",
    "    try:\n",
    "        pp.runpp(net)\n",
    "        \n",
    "        #Calculating the three largest bus voltages per unit, with corresponding indexes when each line is removed \n",
    "        bus_voltage = (net.res_bus.vm_pu)\n",
    "        bus_voltage_max = bus_voltage.nlargest(3)\n",
    "        df2.at[line,'first_bus_voltage_max'] = float(bus_voltage_max.iloc[0])\n",
    "        df2.at[line,'first_bus_voltage_max_index'] = float(bus_voltage_max.index[0])\n",
    "        df2.at[line,'second_bus_voltage_max'] = float(bus_voltage_max.iloc[1])\n",
    "        df2.at[line,'second_bus_voltage_max_index'] = float(bus_voltage_max.index[0])\n",
    "        df2.at[line,'third_bus_voltage_max'] = float(bus_voltage_max.iloc[2])\n",
    "        df2.at[line,'third_bus_voltage_max_index'] = float(bus_voltage_max.index[2])\n",
    "        \n",
    "        #Calculating the three smallest bus voltages per unit, with corresponding indexes when each line is removed \n",
    "        bus_voltage_min = bus_voltage.nsmallest(3)\n",
    "        df2.at[line,'first_bus_voltage_min'] = float(bus_voltage_min.iloc[0])\n",
    "        df2.at[line,'first_bus_voltage_min_index'] = float(bus_voltage_min.index[0])\n",
    "        df2.at[line,'second_bus_voltage_min'] = float(bus_voltage_min.iloc[1])\n",
    "        df2.at[line,'second_bus_voltage_min_index'] = float(bus_voltage_min.index[0])\n",
    "        df2.at[line,'third_bus_voltage_min'] = float(bus_voltage_min.iloc[2])\n",
    "        df2.at[line,'third_bus_voltage_min_index'] = float(bus_voltage_min.index[2])\n",
    "    \n",
    "    except:\n",
    "        #Error blocking ensures that the powerflow is completed. \n",
    "        #When the flow does not converge \"0\" is recorded and analysis is continued.\n",
    "        error_variable = float(\"0\")\n",
    "        df2.at[line,'first_bus_voltage_max'] = error_variable\n",
    "        df2.at[line,'first_bus_voltage_max_index'] = error_variable\n",
    "        df2.at[line,'second_bus_voltage_max'] = error_variable\n",
    "        df2.at[line,'second_bus_voltage_max_index'] = error_variable\n",
    "        df2.at[line,'third_bus_voltage_max'] = error_variable\n",
    "        df2.at[line,'third_bus_voltage_max_index'] = error_variable\n",
    "        \n",
    "        df2.at[line,'first_bus_voltage_min'] = error_variable\n",
    "        df2.at[line,'first_bus_voltage_min_index'] = error_variable\n",
    "        df2.at[line,'second_bus_voltage_min'] = error_variable\n",
    "        df2.at[line,'second_bus_voltage_min_index'] = error_variable\n",
    "        df2.at[line,'third_bus_voltage_min'] = error_variable\n",
    "        df2.at[line,'third_bus_voltage_min_index'] = error_variable\n",
    "\n",
    "#Saving bus results to csv for further analysis        \n",
    "df2.to_csv('UK_Network_Bus_Results.csv')\n"
   ]
  },
  {
   "cell_type": "code",
   "execution_count": null,
   "metadata": {},
   "outputs": [],
   "source": []
  },
  {
   "cell_type": "code",
   "execution_count": null,
   "metadata": {},
   "outputs": [],
   "source": []
  }
 ],
 "metadata": {
  "kernelspec": {
   "display_name": "Python 3",
   "language": "python",
   "name": "python3"
  },
  "language_info": {
   "codemirror_mode": {
    "name": "ipython",
    "version": 3
   },
   "file_extension": ".py",
   "mimetype": "text/x-python",
   "name": "python",
   "nbconvert_exporter": "python",
   "pygments_lexer": "ipython3",
   "version": "3.7.3"
  }
 },
 "nbformat": 4,
 "nbformat_minor": 2
}
